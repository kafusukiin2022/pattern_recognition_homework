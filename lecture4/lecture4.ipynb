{
 "cells": [
  {
   "cell_type": "code",
   "execution_count": 24,
   "metadata": {
    "ExecuteTime": {
     "end_time": "2020-03-03T01:54:11.693657Z",
     "start_time": "2020-03-03T01:54:11.686677Z"
    }
   },
   "outputs": [],
   "source": [
    "from sklearn.utils import shuffle\n",
    "from sklearn.model_selection import train_test_split\n",
    "import numpy as np\n",
    "import matplotlib.pyplot as plt\n",
    "%matplotlib inline\n",
    "\n",
    "MAX_ITERATION = 10000"
   ]
  },
  {
   "cell_type": "code",
   "execution_count": 77,
   "metadata": {
    "ExecuteTime": {
     "end_time": "2020-03-03T05:37:10.339950Z",
     "start_time": "2020-03-03T05:37:10.279114Z"
    }
   },
   "outputs": [],
   "source": [
    "def logistic_data_generator(mean1, cov1, mean2, cov2, num):\n",
    "    np.random.seed(0)\n",
    "    X = np.random.multivariate_normal(mean1, cov1, num//2)\n",
    "    np.random.seed(1)\n",
    "    y = np.full(num//2, -1, dtype=int)\n",
    "    X_ = np.random.multivariate_normal(mean2, cov2, num-num//2)\n",
    "    y_ = np.full(num-num//2, 1, dtype=int)\n",
    "\n",
    "    X_train, X_test, y_train, y_test = train_test_split(\n",
    "        X, y, test_size=50, random_state=1)\n",
    "    X_train_, X_test_, y_train_, y_test_ = train_test_split(\n",
    "        X_, y_, test_size=50, random_state=2)\n",
    "    X_train = np.concatenate((X_train, X_train_), axis=0)\n",
    "    X_test = np.concatenate((X_test, X_test_), axis=0)\n",
    "    y_train = np.concatenate((y_train, y_train_))\n",
    "    y_test = np.concatenate((y_test, y_test_))\n",
    "\n",
    "    X_train, y_train = shuffle(X_train, y_train)\n",
    "    X_test, y_test = shuffle(X_test, y_test)\n",
    "\n",
    "    return X_train, y_train, X_test, y_test\n",
    "\n",
    "\n",
    "def LDA_data_generator(mean1, cov1, mean2, cov2, num):\n",
    "    np.random.seed(0)\n",
    "    X = np.random.multivariate_normal(mean1, cov1, num//2)\n",
    "    np.random.seed(1)\n",
    "    y = np.full(num//2, -1, dtype=int)\n",
    "    X_ = np.random.multivariate_normal(mean2, cov2, num-num//2)\n",
    "    y_ = np.full(num-num//2, 1, dtype=int)\n",
    "    X1 = np.concatenate((X, X_), axis=0)\n",
    "    y1 = np.concatenate((y, y_))\n",
    "\n",
    "    return shuffle(X1, y1)\n",
    "\n",
    "\n",
    "def draw_logistic(X, y, w):\n",
    "    fig, ax = plt.subplots(1, 1, figsize=(12, 5))\n",
    "\n",
    "    for i in range(len(y)):\n",
    "        if y[i] == 1:\n",
    "            ax.scatter(X[i, 0], X[i, 1], c='r', marker='o')\n",
    "        else:\n",
    "            ax.scatter(X[i, 0], X[i, 1], c='b', marker='x')\n",
    "\n",
    "    l_x = np.linspace(np.min(X), np.max(X), X.shape[0])\n",
    "    l_y = -(w[0]/w[2]+w[1]/w[2]*l_x)\n",
    "    ax.plot(l_x, l_y)\n",
    "    xy_max = np.max(X, axis=0)\n",
    "    ax.set(xlim=(-xy_max[0]-1, xy_max[0]+1), ylim=(-xy_max[1]-1, xy_max[1]+1),\n",
    "           xlabel=\"x\",\n",
    "           ylabel=\"y\",\n",
    "           title=\"Logistic Regression\")\n",
    "\n",
    "\n",
    "def draw_LDA(X, y, w, st):\n",
    "    fig, ax = plt.subplots(1, 1, figsize=(12, 5))\n",
    "\n",
    "    for i in range(len(y)):\n",
    "        if y[i] == 1:\n",
    "            ax.scatter(X[i, 0], X[i, 1], c='r', marker='o')\n",
    "        else:\n",
    "            ax.scatter(X[i, 0], X[i, 1], c='b', marker='x')\n",
    "\n",
    "    l_x = np.linspace(np.min(X), np.max(X), X.shape[0])\n",
    "    l_y = -w[0]/w[1]*l_x+st/w[1]\n",
    "    ax.plot(l_x, l_y)\n",
    "    w_x = np.linspace(np.min(X), np.max(X), X.shape[0])\n",
    "    w_y = w[1]/w[0]*w_x\n",
    "    ax.plot(w_x, w_y)\n",
    "    xy_max = np.max(X, axis=0)\n",
    "    ax.set(xlim=(-xy_max[0]-1, xy_max[0]+1), ylim=(-xy_max[1]-1, xy_max[1]+1),\n",
    "           xlabel=\"x\",\n",
    "           ylabel=\"y\",\n",
    "           title=\"LDA\")\n",
    "\n",
    "\n",
    "def draw_kmeans(recorder):\n",
    "    assert len(\n",
    "        recorder[-1]) <= 7, 'k should be less than or equal to 7, otherwise it is hard to observe the result'\n",
    "    fig, ax = plt.subplots(1, 1, figsize=(7, 7))\n",
    "    colors = ['b', 'r', 'g', 'k', 'y', 'c', 'm']\n",
    "\n",
    "    for index, (centroid, cluster) in enumerate(recorder[-1].items()):\n",
    "        ax.scatter(np.array(cluster)[:, 0], np.array(cluster)[\n",
    "                   :, 1], s=100, marker='+', c=colors[index])\n",
    "        ax.scatter(centroid[0], centroid[1], s=150,\n",
    "                   marker='o', c=colors[index])\n",
    "\n",
    "\n",
    "def logistic_train(X_train, y_train, w_init, max_iter, lr=0.001, eps=1e-10):\n",
    "    def sigmoid(s):\n",
    "        return np.exp(s)/(1 + np.exp(s))\n",
    "\n",
    "    w = w_init\n",
    "    X = np.concatenate((np.ones((X_train.shape[0], 1)), X_train), axis=1)\n",
    "    y = y_train\n",
    "\n",
    "    for i in range(max_iter):\n",
    "        for j in range(X.shape[0]):\n",
    "            diff = sigmoid(-y[j]*np.dot(w, X[j]))*(-y[j]*X[j])\n",
    "            w_ = w - lr * diff\n",
    "\n",
    "            delta = np.linalg.norm(w - w_)\n",
    "            if delta < eps:\n",
    "                break\n",
    "            else:\n",
    "                w = w_\n",
    "    return w\n",
    "\n",
    "\n",
    "def logistic_test(X_test, y_test, w):\n",
    "    def sigmoid(s):\n",
    "        return np.exp(s)/(1 + np.exp(s))\n",
    "\n",
    "    X = np.concatenate((np.ones((X_test.shape[0], 1)), X_test), axis=1)\n",
    "    y = y_test\n",
    "\n",
    "    h = np.sign(2*sigmoid(np.dot(X, w))-1)\n",
    "    p = sigmoid(np.dot(X, w))\n",
    "    mistake_indices = np.where(h != y)[0]\n",
    "    mistake_num = len(mistake_indices)\n",
    "    CE = 1/(X.shape[0]) * np.sum(np.log(1+np.exp(-y*np.dot(X, w))))\n",
    "    print('CE is', CE)\n",
    "    print('Accuracy is %.2f%%' %\n",
    "          (100*(X.shape[0]-mistake_num)/X.shape[0]))\n",
    "    for i in range(X.shape[0]):\n",
    "        print('样本[%.2f, %.2f]属于-1/1类的概率分别为：[%f, %f]，因此属于%d类'\n",
    "              % (X[i][1], X[i][2], 1-p[i], p[i], h[i]))\n",
    "\n",
    "    draw_logistic(X_test, y_test, w)\n",
    "\n",
    "\n",
    "def LDA(X, y):\n",
    "    w1 = X[np.where(y == -1)]\n",
    "    w2 = X[np.where(y == 1)]\n",
    "    assert w1.shape[1] == w2.shape[1], 'Identical dimension of data should be guaranteed'\n",
    "\n",
    "    m1 = np.average(w1, axis=0)\n",
    "    m2 = np.average(w2, axis=0)\n",
    "    n = w1.shape[1]\n",
    "\n",
    "    c1 = np.zeros((n, n))\n",
    "    for i in range(w1.shape[0]):\n",
    "        c1 = c1 + np.dot((w1 - m1)[i].reshape(-1, 1),\n",
    "                         (w1 - m1)[i].reshape(1, -1))\n",
    "    c2 = np.zeros((n, n))\n",
    "    for i in range(w2.shape[0]):\n",
    "        c2 = c2 + np.dot((w2 - m2)[i].reshape(-1, 1),\n",
    "                         (w2 - m2)[i].reshape(1, -1))\n",
    "    c = c1 + c2\n",
    "\n",
    "    w = np.linalg.pinv(c).dot((m1 - m2))\n",
    "    m1_ = np.dot(w, m1)\n",
    "    m2_ = np.dot(w, m2)\n",
    "    st = 1/2 * (m1_ + m2_)\n",
    "\n",
    "    print(\"最佳投影向量：\", w)\n",
    "    print(\"分类阈值：\", st)\n",
    "\n",
    "    return w, st\n",
    "\n",
    "\n",
    "def kmeans(X, k):\n",
    "    def random_centroids(X, k):\n",
    "        random_index = np.random.choice(X.shape[0], k, replace=False)\n",
    "        return X[random_index]\n",
    "\n",
    "    def update_centroids(epoch):\n",
    "        new_centroids = []\n",
    "        for i in epoch.values():\n",
    "            new_centroids.append(np.average(np.array(i), axis=0))\n",
    "        return np.array(new_centroids)\n",
    "\n",
    "    assert k <= X.shape[0], 'k should be less than or equal to the number of examples'\n",
    "\n",
    "    centroids = random_centroids(X, k)\n",
    "    recorder = []\n",
    "    converged = False\n",
    "\n",
    "    while not converged:\n",
    "        epoch = {tuple(i): [] for i in centroids}\n",
    "        for i in range(len(X)):\n",
    "            min_dist = np.inf\n",
    "            min_centroid = (np.inf, np.inf)\n",
    "            for j in epoch.keys():\n",
    "                dist = np.linalg.norm(X[i]-j)\n",
    "                if min_dist > dist:\n",
    "                    min_dist = dist\n",
    "                    min_centroid = j\n",
    "            epoch[min_centroid].append(X[i])\n",
    "        recorder.append(epoch)\n",
    "        new_centroids = update_centroids(epoch)\n",
    "        if (new_centroids == centroids).all():\n",
    "            converged = True\n",
    "        else:\n",
    "            centroids = new_centroids\n",
    "\n",
    "    return recorder"
   ]
  },
  {
   "cell_type": "markdown",
   "metadata": {},
   "source": [
    "# Logistic Regression"
   ]
  },
  {
   "cell_type": "code",
   "execution_count": 78,
   "metadata": {
    "ExecuteTime": {
     "end_time": "2020-03-03T05:37:42.639579Z",
     "start_time": "2020-03-03T05:37:11.714931Z"
    },
    "scrolled": false
   },
   "outputs": [
    {
     "name": "stdout",
     "output_type": "stream",
     "text": [
      "CE is 6.042771553259536e-05\n",
      "Accuracy is 100.00%\n",
      "样本[3.56, -0.50]属于-1/1类的概率分别为：[0.000104, 0.999896]，因此属于1类\n",
      "样本[4.73, 0.53]属于-1/1类的概率分别为：[0.000006, 0.999994]，因此属于1类\n",
      "样本[-4.14, -0.74]属于-1/1类的概率分别为：[0.999963, 0.000037]，因此属于-1类\n",
      "样本[4.86, -0.12]属于-1/1类的概率分别为：[0.000004, 0.999996]，因此属于1类\n",
      "样本[-5.03, 0.43]属于-1/1类的概率分别为：[0.999997, 0.000003]，因此属于-1类\n",
      "样本[5.12, 1.13]属于-1/1类的概率分别为：[0.000002, 0.999998]，因此属于1类\n",
      "样本[-4.36, -1.62]属于-1/1类的概率分别为：[0.999977, 0.000023]，因此属于-1类\n",
      "样本[-4.42, 0.35]属于-1/1类的概率分别为：[0.999984, 0.000016]，因此属于-1类\n",
      "样本[5.87, -2.30]属于-1/1类的概率分别为：[0.000000, 1.000000]，因此属于1类\n",
      "样本[-5.06, -0.11]属于-1/1类的概率分别为：[0.999997, 0.000003]，因此属于-1类\n",
      "样本[-5.65, -0.52]属于-1/1类的概率分别为：[0.999999, 0.000001]，因此属于-1类\n",
      "样本[4.29, 1.19]属于-1/1类的概率分别为：[0.000019, 0.999981]，因此属于1类\n",
      "样本[4.88, -0.18]属于-1/1类的概率分别为：[0.000004, 0.999996]，因此属于1类\n",
      "样本[5.28, -0.73]属于-1/1类的概率分别为：[0.000001, 0.999999]，因此属于1类\n",
      "样本[-3.51, -2.07]属于-1/1类的概率分别为：[0.999797, 0.000203]，因此属于-1类\n",
      "样本[-5.31, 0.06]属于-1/1类的概率分别为：[0.999998, 0.000002]，因此属于-1类\n",
      "样本[-3.77, 1.20]属于-1/1类的概率分别为：[0.999923, 0.000077]，因此属于-1类\n",
      "样本[5.87, 0.75]属于-1/1类的概率分别为：[0.000000, 1.000000]，因此属于1类\n",
      "样本[4.82, -0.60]属于-1/1类的概率分别为：[0.000004, 0.999996]，因此属于1类\n",
      "样本[-5.10, 0.41]属于-1/1类的概率分别为：[0.999997, 0.000003]，因此属于-1类\n",
      "样本[-3.47, 1.47]属于-1/1类的概率分别为：[0.999839, 0.000161]，因此属于-1类\n",
      "样本[-5.44, -0.28]属于-1/1类的概率分别为：[0.999999, 0.000001]，因此属于-1类\n",
      "样本[-5.96, -0.35]属于-1/1类的概率分别为：[1.000000, 0.000000]，因此属于-1类\n",
      "样本[3.80, 0.86]属于-1/1类的概率分别为：[0.000064, 0.999936]，因此属于1类\n",
      "样本[-6.16, -0.31]属于-1/1类的概率分别为：[1.000000, 0.000000]，因此属于-1类\n",
      "样本[-5.63, -0.36]属于-1/1类的概率分别为：[0.999999, 0.000001]，因此属于-1类\n",
      "样本[4.96, 2.11]属于-1/1类的概率分别为：[0.000004, 0.999996]，因此属于1类\n",
      "样本[-3.64, -0.69]属于-1/1类的概率分别为：[0.999872, 0.000128]，因此属于-1类\n",
      "样本[4.88, -0.94]属于-1/1类的概率分别为：[0.000004, 0.999996]，因此属于1类\n",
      "样本[7.05, 0.59]属于-1/1类的概率分别为：[0.000000, 1.000000]，因此属于1类\n",
      "样本[-5.81, -1.73]属于-1/1类的概率分别为：[0.999999, 0.000001]，因此属于-1类\n",
      "样本[-5.69, -1.21]属于-1/1类的概率分别为：[0.999999, 0.000001]，因此属于-1类\n",
      "样本[-5.60, -0.24]属于-1/1类的概率分别为：[0.999999, 0.000001]，因此属于-1类\n",
      "样本[-5.89, -1.98]属于-1/1类的概率分别为：[1.000000, 0.000000]，因此属于-1类\n",
      "样本[-4.27, 0.13]属于-1/1类的概率分别为：[0.999976, 0.000024]，因此属于-1类\n",
      "样本[-4.39, 0.92]属于-1/1类的概率分别为：[0.999983, 0.000017]，因此属于-1类\n",
      "样本[-5.91, 0.05]属于-1/1类的概率分别为：[1.000000, 0.000000]，因此属于-1类\n",
      "样本[5.04, 0.58]属于-1/1类的概率分别为：[0.000003, 0.999997]，因此属于1类\n",
      "样本[-4.14, 1.14]属于-1/1类的概率分别为：[0.999970, 0.000030]，因此属于-1类\n",
      "样本[5.16, -0.19]属于-1/1类的概率分别为：[0.000002, 0.999998]，因此属于1类\n",
      "样本[-5.74, 1.54]属于-1/1类的概率分别为：[0.999999, 0.000001]，因此属于-1类\n",
      "样本[5.80, -0.37]属于-1/1类的概率分别为：[0.000000, 1.000000]，因此属于1类\n",
      "样本[6.41, 0.13]属于-1/1类的概率分别为：[0.000000, 1.000000]，因此属于1类\n",
      "样本[-5.86, 1.91]属于-1/1类的概率分别为：[1.000000, 0.000000]，因此属于-1类\n",
      "样本[4.12, -0.87]属于-1/1类的概率分别为：[0.000024, 0.999976]，因此属于1类\n",
      "样本[-5.02, 0.38]属于-1/1类的概率分别为：[0.999996, 0.000004]，因此属于-1类\n",
      "样本[-5.46, 0.02]属于-1/1类的概率分别为：[0.999999, 0.000001]，因此属于-1类\n",
      "样本[-5.91, 1.12]属于-1/1类的概率分别为：[1.000000, 0.000000]，因此属于-1类\n",
      "样本[-6.17, 0.90]属于-1/1类的概率分别为：[1.000000, 0.000000]，因此属于-1类\n",
      "样本[6.56, 0.11]属于-1/1类的概率分别为：[0.000000, 1.000000]，因此属于1类\n",
      "样本[4.80, 0.81]属于-1/1类的概率分别为：[0.000005, 0.999995]，因此属于1类\n",
      "样本[4.89, -0.62]属于-1/1类的概率分别为：[0.000004, 0.999996]，因此属于1类\n",
      "样本[5.11, -1.53]属于-1/1类的概率分别为：[0.000002, 0.999998]，因此属于1类\n",
      "样本[5.24, 0.20]属于-1/1类的概率分别为：[0.000002, 0.999998]，因此属于1类\n",
      "样本[5.19, 0.41]属于-1/1类的概率分别为：[0.000002, 0.999998]，因此属于1类\n",
      "样本[-3.35, 0.16]属于-1/1类的概率分别为：[0.999757, 0.000243]，因此属于-1类\n",
      "样本[5.35, -1.31]属于-1/1类的概率分别为：[0.000001, 0.999999]，因此属于1类\n",
      "样本[-6.29, 0.27]属于-1/1类的概率分别为：[1.000000, 0.000000]，因此属于-1类\n",
      "样本[-4.05, -0.16]属于-1/1类的概率分别为：[0.999957, 0.000043]，因此属于-1类\n",
      "样本[-6.07, 1.05]属于-1/1类的概率分别为：[1.000000, 0.000000]，因此属于-1类\n",
      "样本[5.74, -0.95]属于-1/1类的概率分别为：[0.000000, 1.000000]，因此属于1类\n",
      "样本[3.78, 2.45]属于-1/1类的概率分别为：[0.000078, 0.999922]，因此属于1类\n",
      "样本[-5.81, -1.47]属于-1/1类的概率分别为：[0.999999, 0.000001]，因此属于-1类\n",
      "样本[-5.21, 0.88]属于-1/1类的概率分别为：[0.999998, 0.000002]，因此属于-1类\n",
      "样本[-4.72, -0.99]属于-1/1类的概率分别为：[0.999991, 0.000009]，因此属于-1类\n",
      "样本[5.30, -0.35]属于-1/1类的概率分别为：[0.000001, 0.999999]，因此属于1类\n",
      "样本[-5.94, -0.41]属于-1/1类的概率分别为：[1.000000, 0.000000]，因此属于-1类\n",
      "样本[-3.04, 0.39]属于-1/1类的概率分别为：[0.999483, 0.000517]，因此属于-1类\n",
      "样本[5.44, 1.12]属于-1/1类的概率分别为：[0.000001, 0.999999]，因此属于1类\n",
      "样本[5.46, -1.18]属于-1/1类的概率分别为：[0.000001, 0.999999]，因此属于1类\n",
      "样本[-4.64, 0.71]属于-1/1类的概率分别为：[0.999991, 0.000009]，因此属于-1类\n",
      "样本[4.73, 0.03]属于-1/1类的概率分别为：[0.000006, 0.999994]，因此属于1类\n",
      "样本[-5.87, -0.58]属于-1/1类的概率分别为：[1.000000, 0.000000]，因此属于-1类\n",
      "样本[5.19, 2.10]属于-1/1类的概率分别为：[0.000002, 0.999998]，因此属于1类\n",
      "样本[5.10, 0.92]属于-1/1类的概率分别为：[0.000002, 0.999998]，因此属于1类\n",
      "样本[4.76, 0.73]属于-1/1类的概率分别为：[0.000006, 0.999994]，因此属于1类\n",
      "样本[6.20, 0.19]属于-1/1类的概率分别为：[0.000000, 1.000000]，因此属于1类\n",
      "样本[-4.25, -1.19]属于-1/1类的概率分别为：[0.999972, 0.000028]，因此属于-1类\n",
      "样本[4.83, -0.17]属于-1/1类的概率分别为：[0.000004, 0.999996]，因此属于1类\n",
      "样本[4.14, 0.67]属于-1/1类的概率分别为：[0.000027, 0.999973]，因此属于1类\n",
      "样本[-5.27, -1.13]属于-1/1类的概率分别为：[0.999998, 0.000002]，因此属于-1类\n",
      "样本[5.29, 0.89]属于-1/1类的概率分别为：[0.000002, 0.999998]，因此属于1类\n",
      "样本[3.90, 1.14]属于-1/1类的概率分别为：[0.000051, 0.999949]，因此属于1类\n",
      "样本[-5.39, -0.30]属于-1/1类的概率分别为：[0.999999, 0.000001]，因此属于-1类\n",
      "样本[-5.99, -1.47]属于-1/1类的概率分别为：[1.000000, 0.000000]，因此属于-1类\n",
      "样本[4.35, 0.90]属于-1/1类的概率分别为：[0.000016, 0.999984]，因此属于1类\n",
      "样本[-4.48, -0.17]属于-1/1类的概率分别为：[0.999985, 0.000015]，因此属于-1类\n",
      "样本[-6.27, 0.97]属于-1/1类的概率分别为：[1.000000, 0.000000]，因此属于-1类\n",
      "样本[2.21, 1.94]属于-1/1类的概率分别为：[0.003909, 0.996091]，因此属于1类\n",
      "样本[4.66, 0.04]属于-1/1类的概率分别为：[0.000007, 0.999993]，因此属于1类\n",
      "样本[6.74, -0.76]属于-1/1类的概率分别为：[0.000000, 1.000000]，因此属于1类\n",
      "样本[-6.76, 0.45]属于-1/1类的概率分别为：[1.000000, 0.000000]，因此属于-1类\n",
      "样本[6.46, -2.06]属于-1/1类的概率分别为：[0.000000, 1.000000]，因此属于1类\n",
      "样本[-4.60, -1.09]属于-1/1类的概率分别为：[0.999988, 0.000012]，因此属于-1类\n",
      "样本[4.45, -0.20]属于-1/1类的概率分别为：[0.000011, 0.999989]，因此属于1类\n",
      "样本[4.22, -0.44]属于-1/1类的概率分别为：[0.000020, 0.999980]，因此属于1类\n",
      "样本[-4.93, 0.30]属于-1/1类的概率分别为：[0.999996, 0.000004]，因此属于-1类\n",
      "样本[4.68, -0.38]属于-1/1类的概率分别为：[0.000006, 0.999994]，因此属于1类\n",
      "样本[5.62, -0.44]属于-1/1类的概率分别为：[0.000001, 0.999999]，因此属于1类\n",
      "样本[5.90, -0.68]属于-1/1类的概率分别为：[0.000000, 1.000000]，因此属于1类\n"
     ]
    },
    {
     "data": {
      "image/png": "[encoded data removed]",
      "text/plain": [
       "<Figure size 864x360 with 1 Axes>"
      ]
     },
     "metadata": {
      "needs_background": "light"
     },
     "output_type": "display_data"
    }
   ],
   "source": [
    "X1_train, y1_train, X1_test, y1_test = logistic_data_generator([-5, 0], \n",
    "                                                               np.identity(2), \n",
    "                                                               [5, 0], \n",
    "                                                               np.identity(2), 400)\n",
    "np.random.seed()\n",
    "w_init = np.random.randn(3)\n",
    "w1 = logistic_train(X1_train, y1_train, w_init, MAX_ITERATION)\n",
    "logistic_test(X1_test, y1_test, w)"
   ]
  },
  {
   "cell_type": "markdown",
   "metadata": {},
   "source": [
    "# Fisher Discriminant Analysis"
   ]
  },
  {
   "cell_type": "code",
   "execution_count": 101,
   "metadata": {
    "ExecuteTime": {
     "end_time": "2020-03-02T17:08:38.586094Z",
     "start_time": "2020-03-02T17:08:37.349399Z"
    }
   },
   "outputs": [
    {
     "name": "stdout",
     "output_type": "stream",
     "text": [
      "最佳投影向量： [-0.02629717 -0.00222113]\n",
      "分类阈值： -8.890360166412259e-05\n"
     ]
    },
    {
     "data": {
      "image/png": "[encoded data removed]",
      "text/plain": [
       "<Figure size 864x360 with 1 Axes>"
      ]
     },
     "metadata": {
      "needs_background": "light"
     },
     "output_type": "display_data"
    }
   ],
   "source": [
    "X2, y2 = LDA_data_generator([-5, 0], np.identity(2), [5, 0], np.identity(2), 400)\n",
    "w2, st = LDA(X2, y2)\n",
    "draw_LDA(X2, y2, w2, st)"
   ]
  },
  {
   "cell_type": "markdown",
   "metadata": {},
   "source": [
    "# K-Means"
   ]
  },
  {
   "cell_type": "code",
   "execution_count": null,
   "metadata": {},
   "outputs": [],
   "source": [
    "X3 = np.array([[0.697, 0.460],\n",
    "               [0.774, 0.376],\n",
    "               [0.634, 0.264],\n",
    "               [0.608, 0.318],\n",
    "               [0.556, 0.215],\n",
    "               [0.403, 0.237],\n",
    "               [0.481, 0.149],\n",
    "               [0.437, 0.211],\n",
    "               [0.666, 0.091],\n",
    "               [0.243, 0.267],\n",
    "               [0.245, 0.057],\n",
    "               [0.343, 0.099],\n",
    "               [0.639, 0.161],\n",
    "               [0.657, 0.198],\n",
    "               [0.360, 0.370],\n",
    "               [0.593, 0.042],\n",
    "               [0.719, 0.103],\n",
    "               [0.359, 0.188],\n",
    "               [0.339, 0.241],\n",
    "               [0.282, 0.257],\n",
    "               [0.748, 0.232],\n",
    "               [0.714, 0.346],\n",
    "               [0.483, 0.312],\n",
    "               [0.478, 0.437],\n",
    "               [0.525, 0.369],\n",
    "               [0.751, 0.489],\n",
    "               [0.532, 0.472],\n",
    "               [0.473, 0.376],\n",
    "               [0.725, 0.445],\n",
    "               [0.446, 0.459]])"
   ]
  },
  {
   "cell_type": "code",
   "execution_count": 57,
   "metadata": {
    "ExecuteTime": {
     "end_time": "2020-03-02T07:43:27.826723Z",
     "start_time": "2020-03-02T07:43:27.671137Z"
    }
   },
   "outputs": [
    {
     "data": {
      "image/png": "[encoded data removed]",
      "text/plain": [
       "<Figure size 504x504 with 1 Axes>"
      ]
     },
     "metadata": {
      "needs_background": "light"
     },
     "output_type": "display_data"
    }
   ],
   "source": [
    "recorder = kmeans(X3, 3)\n",
    "draw_kmeans(recorder)"
   ]
  },
  {
   "cell_type": "code",
   "execution_count": 55,
   "metadata": {
    "ExecuteTime": {
     "end_time": "2020-03-02T07:42:44.011219Z",
     "start_time": "2020-03-02T07:42:43.833692Z"
    }
   },
   "outputs": [
    {
     "data": {
      "image/png": "[encoded data removed]",
      "text/plain": [
       "<Figure size 504x504 with 1 Axes>"
      ]
     },
     "metadata": {
      "needs_background": "light"
     },
     "output_type": "display_data"
    }
   ],
   "source": [
    "recorder = kmeans(X3, 5)\n",
    "draw_kmeans(recorder)"
   ]
  }
 ],
 "metadata": {
  "hide_input": false,
  "kernelspec": {
   "display_name": "Python 3",
   "language": "python",
   "name": "python3"
  },
  "language_info": {
   "codemirror_mode": {
    "name": "ipython",
    "version": 3
   },
   "file_extension": ".py",
   "mimetype": "text/x-python",
   "name": "python",
   "nbconvert_exporter": "python",
   "pygments_lexer": "ipython3",
   "version": "3.7.4"
  },
  "toc": {
   "base_numbering": 1,
   "nav_menu": {},
   "number_sections": true,
   "sideBar": true,
   "skip_h1_title": false,
   "title_cell": "Table of Contents",
   "title_sidebar": "Contents",
   "toc_cell": false,
   "toc_position": {},
   "toc_section_display": true,
   "toc_window_display": false
  },
  "varInspector": {
   "cols": {
    "lenName": 16,
    "lenType": 16,
    "lenVar": 40
   },
   "kernels_config": {
    "python": {
     "delete_cmd_postfix": "",
     "delete_cmd_prefix": "del ",
     "library": "var_list.py",
     "varRefreshCmd": "print(var_dic_list())"
    },
    "r": {
     "delete_cmd_postfix": ") ",
     "delete_cmd_prefix": "rm(",
     "library": "var_list.r",
     "varRefreshCmd": "cat(var_dic_list()) "
    }
   },
   "types_to_exclude": [
    "module",
    "function",
    "builtin_function_or_method",
    "instance",
    "_Feature"
   ],
   "window_display": false
  }
 },
 "nbformat": 4,
 "nbformat_minor": 2
}
